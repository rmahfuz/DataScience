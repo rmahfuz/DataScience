{
 "cells": [
  {
   "cell_type": "code",
   "execution_count": null,
   "metadata": {},
   "outputs": [],
   "source": [
    "%matplotlib inline\n",
    "import numpy as np\n",
    "import matplotlib.pyplot as plt\n",
    "from helper import plotHisto"
   ]
  },
  {
   "cell_type": "code",
   "execution_count": null,
   "metadata": {},
   "outputs": [],
   "source": [
    "#INPUTS\n",
    "#data: list of data points\n",
    "#numbins: number of bins in the output histogram\n",
    "#minimum: the minimum value of the histogram range\n",
    "#maximum: the maximum value of the histogram range\n",
    "#\n",
    "#RETURNS:\n",
    "#histo: a list of length numbins, with each entry containing the number of data points in the corresponding histogram bin\n",
    "def buildHisto (data, numbins, minimum, maximum):\n",
    "    \n",
    "# 1. FILL IN\n",
    "    \n",
    "    return histo"
   ]
  },
  {
   "cell_type": "code",
   "execution_count": null,
   "metadata": {},
   "outputs": [],
   "source": [
    "data = np.loadtxt('math_scores.txt')"
   ]
  },
  {
   "cell_type": "code",
   "execution_count": null,
   "metadata": {},
   "outputs": [],
   "source": [
    "# 2. Build and plot histogram with 10 bins\n",
    "# histo = buildHisto(data, 10, 0.0, 100.0)\n",
    "# plotHisto(histo, 'histo1.png', minimum, maximum, plotinline = True)"
   ]
  },
  {
   "cell_type": "code",
   "execution_count": null,
   "metadata": {},
   "outputs": [],
   "source": [
    "# 3. Build and plot histogram with 200 bins\n",
    "# histo = ...\n",
    "# plotHisto( ... )"
   ]
  }
 ],
 "metadata": {
  "kernelspec": {
   "display_name": "Python 2",
   "language": "python",
   "name": "python2"
  },
  "language_info": {
   "codemirror_mode": {
    "name": "ipython",
    "version": 2
   },
   "file_extension": ".py",
   "mimetype": "text/x-python",
   "name": "python",
   "nbconvert_exporter": "python",
   "pygments_lexer": "ipython2",
   "version": "2.7.10"
  }
 },
 "nbformat": 4,
 "nbformat_minor": 2
}
